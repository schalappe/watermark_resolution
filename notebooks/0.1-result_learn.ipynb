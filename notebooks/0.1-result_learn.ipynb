{
 "cells": [
  {
   "cell_type": "code",
   "execution_count": 1,
   "id": "2e9d7d95-f18b-4a45-86c7-357c59c1c864",
   "metadata": {},
   "outputs": [],
   "source": [
    "import os\n",
    "from glob import glob\n",
    "from random import choice\n",
    "from os.path import join, sep"
   ]
  },
  {
   "cell_type": "code",
   "execution_count": 2,
   "id": "390b51f1-3404-453d-978b-0bda4906a5ff",
   "metadata": {},
   "outputs": [],
   "source": [
    "import keras\n",
    "import tensorflow as tf\n",
    "from rich.progress import track\n",
    "from dotenv import find_dotenv, load_dotenv"
   ]
  },
  {
   "cell_type": "code",
   "execution_count": 3,
   "id": "bc0c4595-6017-4049-9ed6-0cdf1ab67e21",
   "metadata": {},
   "outputs": [],
   "source": [
    "from src.addons.watermark.models import create_watermark, create_extract_mark\n",
    "from src.addons.watermark.models import WatermarkModel\n",
    "from src.addons.data.pipeline import test_pipeline\n",
    "from src.addons.visualize.table import print_tables\n",
    "from src.addons.data.augment import attacks"
   ]
  },
  {
   "cell_type": "markdown",
   "id": "1e06f217-2e71-4585-9e14-eb726ebc72b5",
   "metadata": {},
   "source": [
    "---"
   ]
  },
  {
   "cell_type": "code",
   "execution_count": 4,
   "id": "eecd08f6-bf1e-4fe8-9d63-99ca741bbcdc",
   "metadata": {},
   "outputs": [],
   "source": [
    "_ = load_dotenv(find_dotenv())"
   ]
  },
  {
   "cell_type": "code",
   "execution_count": 5,
   "id": "38b8f539-9e47-4784-ab4c-5d0bd45d2ea9",
   "metadata": {},
   "outputs": [
    {
     "name": "stderr",
     "output_type": "stream",
     "text": [
      "2023-12-25 23:29:42.504270: I metal_plugin/src/device/metal_device.cc:1154] Metal device set to: Apple M1 Pro\n",
      "2023-12-25 23:29:42.504296: I metal_plugin/src/device/metal_device.cc:296] systemMemory: 32.00 GB\n",
      "2023-12-25 23:29:42.504300: I metal_plugin/src/device/metal_device.cc:313] maxCacheSize: 10.67 GB\n",
      "2023-12-25 23:29:42.504333: I tensorflow/core/common_runtime/pluggable_device/pluggable_device_factory.cc:306] Could not identify NUMA node of platform GPU ID 0, defaulting to 0. Your kernel may not have been built with NUMA support.\n",
      "2023-12-25 23:29:42.504352: I tensorflow/core/common_runtime/pluggable_device/pluggable_device_factory.cc:272] Created TensorFlow device (/job:localhost/replica:0/task:0/device:GPU:0 with 0 MB memory) -> physical PluggableDevice (device: 0, name: METAL, pci bus id: <undefined>)\n"
     ]
    }
   ],
   "source": [
    "images_path = glob(join(os.environ.get(\"RAW_PATH\"), \"tests\") + sep + \"*.jpg\")\n",
    "test_ds = test_pipeline(images_path, 32)"
   ]
  },
  {
   "cell_type": "code",
   "execution_count": 6,
   "id": "af6ccbda-7745-4012-98cd-8809cc60525c",
   "metadata": {},
   "outputs": [],
   "source": [
    "embedding = create_watermark((128, 128, 3), (8, 8, 1), 1.)\n",
    "embedding.load_weights(join(os.environ.get(\"MODELS_PATH\"), \"storage\", \"embedding.25_12_2023_20_03_40.weights.h5\"))"
   ]
  },
  {
   "cell_type": "code",
   "execution_count": 7,
   "id": "c7a959a6-aff5-497c-9aa9-dba2fa093c23",
   "metadata": {},
   "outputs": [],
   "source": [
    "extractor = create_extract_mark((128, 128, 3))\n",
    "extractor.load_weights(join(os.environ.get(\"MODELS_PATH\"), \"storage\", \"extractor.25_12_2023_20_03_40.weights.h5\"))"
   ]
  },
  {
   "cell_type": "markdown",
   "id": "f0936bba-6dd5-4ac3-aef4-0343cfe7ef18",
   "metadata": {},
   "source": [
    "---"
   ]
  },
  {
   "cell_type": "code",
   "execution_count": 8,
   "id": "ba4baec9-dca6-4847-9a69-2a77bd217602",
   "metadata": {},
   "outputs": [],
   "source": [
    "models = WatermarkModel(embedding=embedding, extractor=extractor)"
   ]
  },
  {
   "cell_type": "code",
   "execution_count": 9,
   "id": "3c212fd1-cea8-4d53-86a5-7acce9b7576f",
   "metadata": {},
   "outputs": [
    {
     "data": {
      "text/html": [
       "<pre style=\"white-space:pre;overflow-x:auto;line-height:normal;font-family:Menlo,'DejaVu Sans Mono',consolas,'Courier New',monospace\">Working... <span style=\"color: #729c1f; text-decoration-color: #729c1f\">━━━━━━━━━━━━━━━━━━━━━━━━━━━━━━━━━━━━━━━━</span> <span style=\"color: #800080; text-decoration-color: #800080\">100%</span> <span style=\"color: #808000; text-decoration-color: #808000\">0:04:53</span>\n",
       "</pre>\n"
      ],
      "text/plain": [
       "Working... \u001b[38;2;114;156;31m━━━━━━━━━━━━━━━━━━━━━━━━━━━━━━━━━━━━━━━━\u001b[0m \u001b[35m100%\u001b[0m \u001b[33m0:04:53\u001b[0m\n"
      ]
     },
     "metadata": {},
     "output_type": "display_data"
    },
    {
     "data": {
      "text/html": [
       "<pre style=\"white-space:pre;overflow-x:auto;line-height:normal;font-family:Menlo,'DejaVu Sans Mono',consolas,'Courier New',monospace\"></pre>\n"
      ],
      "text/plain": []
     },
     "metadata": {},
     "output_type": "display_data"
    },
    {
     "data": {
      "text/html": [
       "<pre style=\"white-space:pre;overflow-x:auto;line-height:normal;font-family:Menlo,'DejaVu Sans Mono',consolas,'Courier New',monospace\">\n",
       "</pre>\n"
      ],
      "text/plain": [
       "\n"
      ]
     },
     "metadata": {},
     "output_type": "display_data"
    }
   ],
   "source": [
    "results = {}\n",
    "for attack in track(attacks):\n",
    "    psnr, ber = models.evaluate(test_ds, attack)\n",
    "    results[attack] = [float(psnr), float(ber)]"
   ]
  },
  {
   "cell_type": "code",
   "execution_count": 10,
   "id": "e1fa27e0-dcf0-4b8f-920b-c141678a497d",
   "metadata": {},
   "outputs": [
    {
     "data": {
      "text/html": [
       "<pre style=\"white-space:pre;overflow-x:auto;line-height:normal;font-family:Menlo,'DejaVu Sans Mono',consolas,'Courier New',monospace\"><span style=\"font-style: italic\">                           Result                           </span>\n",
       "┏━━━━━━━━━━━━━━━━┳━━━━━━━━━━━━━━━━━━━━┳━━━━━━━━━━━━━━━━━━━━┓\n",
       "┃<span style=\"font-weight: bold\"> Attack         </span>┃<span style=\"font-weight: bold\"> PSNR               </span>┃<span style=\"font-weight: bold\"> BER                </span>┃\n",
       "┡━━━━━━━━━━━━━━━━╇━━━━━━━━━━━━━━━━━━━━╇━━━━━━━━━━━━━━━━━━━━┩\n",
       "│ crop           │ 18.004316329956055 │ 50.03352355957031  │\n",
       "│ dropout        │ 18.004316329956055 │ 49.98154067993164  │\n",
       "│ identity       │ 18.004316329956055 │ 50.402130126953125 │\n",
       "│ rotation       │ 18.004316329956055 │ 50.41508102416992  │\n",
       "│ salt_pepper    │ 18.004316329956055 │ 50.419673919677734 │\n",
       "│ median_blur    │ 18.004316329956055 │ 50.43000411987305  │\n",
       "│ average_blur   │ 18.004316329956055 │ 50.39588165283203  │\n",
       "│ gaussian_blur  │ 18.004316329956055 │ 50.40145492553711  │\n",
       "│ image_quality  │ 18.004316329956055 │ 50.39665985107422  │\n",
       "│ gaussian_noise │ 18.004316329956055 │ 50.45133972167969  │\n",
       "└────────────────┴────────────────────┴────────────────────┘\n",
       "</pre>\n"
      ],
      "text/plain": [
       "\u001b[3m                           Result                           \u001b[0m\n",
       "┏━━━━━━━━━━━━━━━━┳━━━━━━━━━━━━━━━━━━━━┳━━━━━━━━━━━━━━━━━━━━┓\n",
       "┃\u001b[1m \u001b[0m\u001b[1mAttack        \u001b[0m\u001b[1m \u001b[0m┃\u001b[1m \u001b[0m\u001b[1mPSNR              \u001b[0m\u001b[1m \u001b[0m┃\u001b[1m \u001b[0m\u001b[1mBER               \u001b[0m\u001b[1m \u001b[0m┃\n",
       "┡━━━━━━━━━━━━━━━━╇━━━━━━━━━━━━━━━━━━━━╇━━━━━━━━━━━━━━━━━━━━┩\n",
       "│ crop           │ 18.004316329956055 │ 50.03352355957031  │\n",
       "│ dropout        │ 18.004316329956055 │ 49.98154067993164  │\n",
       "│ identity       │ 18.004316329956055 │ 50.402130126953125 │\n",
       "│ rotation       │ 18.004316329956055 │ 50.41508102416992  │\n",
       "│ salt_pepper    │ 18.004316329956055 │ 50.419673919677734 │\n",
       "│ median_blur    │ 18.004316329956055 │ 50.43000411987305  │\n",
       "│ average_blur   │ 18.004316329956055 │ 50.39588165283203  │\n",
       "│ gaussian_blur  │ 18.004316329956055 │ 50.40145492553711  │\n",
       "│ image_quality  │ 18.004316329956055 │ 50.39665985107422  │\n",
       "│ gaussian_noise │ 18.004316329956055 │ 50.45133972167969  │\n",
       "└────────────────┴────────────────────┴────────────────────┘\n"
      ]
     },
     "metadata": {},
     "output_type": "display_data"
    }
   ],
   "source": [
    "headers = [\"Attack\", \"PSNR\", \"BER\"]\n",
    "content = [[attack] + results[attack] for attack in attacks]\n",
    "print_tables(\"Result\", headers, content)"
   ]
  },
  {
   "cell_type": "code",
   "execution_count": null,
   "id": "8496fe0e-cab7-40e4-adcb-7eabfdc685a6",
   "metadata": {},
   "outputs": [],
   "source": []
  }
 ],
 "metadata": {
  "kernelspec": {
   "display_name": "Python 3 (ipykernel)",
   "language": "python",
   "name": "python3"
  },
  "language_info": {
   "codemirror_mode": {
    "name": "ipython",
    "version": 3
   },
   "file_extension": ".py",
   "mimetype": "text/x-python",
   "name": "python",
   "nbconvert_exporter": "python",
   "pygments_lexer": "ipython3",
   "version": "3.11.3"
  }
 },
 "nbformat": 4,
 "nbformat_minor": 5
}
